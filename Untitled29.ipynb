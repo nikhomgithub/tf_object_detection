{
  "nbformat": 4,
  "nbformat_minor": 0,
  "metadata": {
    "colab": {
      "name": "Untitled29.ipynb",
      "provenance": [],
      "include_colab_link": true
    },
    "kernelspec": {
      "name": "python3",
      "display_name": "Python 3"
    },
    "accelerator": "GPU"
  },
  "cells": [
    {
      "cell_type": "markdown",
      "metadata": {
        "id": "view-in-github",
        "colab_type": "text"
      },
      "source": [
        "<a href=\"https://colab.research.google.com/github/nikhomgithub/tf_object_detection/blob/master/Untitled29.ipynb\" target=\"_parent\"><img src=\"https://colab.research.google.com/assets/colab-badge.svg\" alt=\"Open In Colab\"/></a>"
      ]
    },
    {
      "cell_type": "code",
      "metadata": {
        "id": "YN6zRSWMFreG",
        "colab_type": "code",
        "colab": {}
      },
      "source": [
        "import tensorflow as tf\n",
        "from tensorflow.keras.models import Sequential, load_model\n",
        "from tensorflow.keras.layers import Dense, Flatten\n",
        "from tensorflow.nn import relu,softmax\n",
        "from tensorflow.keras.utils import normalize\n",
        "import numpy as np\n",
        "import matplotlib.pyplot as plt\n",
        "import pickle"
      ],
      "execution_count": 0,
      "outputs": []
    },
    {
      "cell_type": "markdown",
      "metadata": {
        "id": "GweJkbU0HhwF",
        "colab_type": "text"
      },
      "source": [
        "#get dataset"
      ]
    },
    {
      "cell_type": "code",
      "metadata": {
        "id": "htntA0ShHCHZ",
        "colab_type": "code",
        "colab": {}
      },
      "source": [
        "mnist=tf.keras.datasets.mnist\n",
        "(x_train,y_train),(x_test,y_test)=mnist.load_data()"
      ],
      "execution_count": 0,
      "outputs": []
    },
    {
      "cell_type": "code",
      "metadata": {
        "id": "KDVe_Y5rLOW5",
        "colab_type": "code",
        "colab": {
          "base_uri": "https://localhost:8080/",
          "height": 85
        },
        "outputId": "e9ae47c0-6136-4570-e9d2-cb223a1d53bc"
      },
      "source": [
        "print(x_train.shape)\n",
        "print(y_train.shape)\n",
        "print(x_test.shape)\n",
        "print(y_test.shape)"
      ],
      "execution_count": 238,
      "outputs": [
        {
          "output_type": "stream",
          "text": [
            "(60000, 28, 28)\n",
            "(60000,)\n",
            "(10000, 28, 28)\n",
            "(10000,)\n"
          ],
          "name": "stdout"
        }
      ]
    },
    {
      "cell_type": "code",
      "metadata": {
        "id": "sXWaAhjMJ44R",
        "colab_type": "code",
        "colab": {}
      },
      "source": [
        "x_train=normalize(x_train)\n",
        "x_test=normalize(x_test)"
      ],
      "execution_count": 0,
      "outputs": []
    },
    {
      "cell_type": "code",
      "metadata": {
        "id": "b9iUsC4kHWup",
        "colab_type": "code",
        "colab": {
          "base_uri": "https://localhost:8080/",
          "height": 34
        },
        "outputId": "28e8b4fe-ef21-415f-8ff1-8f2a91f43889"
      },
      "source": [
        "print(x_train[0].dtype)"
      ],
      "execution_count": 240,
      "outputs": [
        {
          "output_type": "stream",
          "text": [
            "float64\n"
          ],
          "name": "stdout"
        }
      ]
    },
    {
      "cell_type": "code",
      "metadata": {
        "id": "IyOwst7UHnkO",
        "colab_type": "code",
        "colab": {
          "base_uri": "https://localhost:8080/",
          "height": 265
        },
        "outputId": "87190ef5-566b-4066-ed3d-31c3da686e18"
      },
      "source": [
        "plt.imshow(x_train[0],cmap=plt.cm.binary)\n",
        "plt.show()"
      ],
      "execution_count": 241,
      "outputs": [
        {
          "output_type": "display_data",
          "data": {
            "image/png": "[encoded data removed]",
            "text/plain": [
              "<Figure size 432x288 with 1 Axes>"
            ]
          },
          "metadata": {
            "tags": []
          }
        }
      ]
    },
    {
      "cell_type": "code",
      "metadata": {
        "id": "D3zfhtKBiaT9",
        "colab_type": "code",
        "colab": {}
      },
      "source": [
        "pickle_out=open(\"x_test.pickle\",\"wb\")\n",
        "pickle.dump(x_test,pickle_out)\n",
        "pickle_out.close()\n",
        "\n",
        "pickle_in=open(\"x_test.pickle\",\"rb\")\n",
        "pickle.load(pickle_in)\n",
        "pickle_in.close()"
      ],
      "execution_count": 0,
      "outputs": []
    },
    {
      "cell_type": "code",
      "metadata": {
        "id": "8MqGge5VH5Nk",
        "colab_type": "code",
        "colab": {}
      },
      "source": [
        "#setup model\n",
        "model=Sequential()\n",
        "model.add(Flatten(input_shape=(28,28)))\n",
        "model.add(Dense(128,activation=relu))\n",
        "model.add(Dense(128,activation=relu))\n",
        "model.add(Dense(10,activation=softmax))\n",
        "model.compile(optimizer='adam',loss='sparse_categorical_crossentropy',metrics=['accuracy'])"
      ],
      "execution_count": 0,
      "outputs": []
    },
    {
      "cell_type": "code",
      "metadata": {
        "id": "5La7miruJDfp",
        "colab_type": "code",
        "colab": {
          "base_uri": "https://localhost:8080/",
          "height": 374
        },
        "outputId": "a1e906de-ecc9-4e31-c323-d6d185810db7"
      },
      "source": [
        "history=model.fit(x_train,y_train,epochs=10,validation_split=0.7)"
      ],
      "execution_count": 245,
      "outputs": [
        {
          "output_type": "stream",
          "text": [
            "Train on 18000 samples, validate on 42000 samples\n",
            "Epoch 1/10\n",
            "18000/18000 [==============================] - 4s 198us/sample - loss: 0.4504 - acc: 0.8709 - val_loss: 0.2444 - val_acc: 0.9255\n",
            "Epoch 2/10\n",
            "18000/18000 [==============================] - 3s 188us/sample - loss: 0.1828 - acc: 0.9447 - val_loss: 0.1828 - val_acc: 0.9465\n",
            "Epoch 3/10\n",
            "18000/18000 [==============================] - 3s 189us/sample - loss: 0.1229 - acc: 0.9621 - val_loss: 0.1571 - val_acc: 0.9534\n",
            "Epoch 4/10\n",
            "18000/18000 [==============================] - 3s 183us/sample - loss: 0.0917 - acc: 0.9717 - val_loss: 0.1526 - val_acc: 0.9540\n",
            "Epoch 5/10\n",
            "18000/18000 [==============================] - 3s 187us/sample - loss: 0.0668 - acc: 0.9794 - val_loss: 0.1557 - val_acc: 0.9544\n",
            "Epoch 6/10\n",
            "18000/18000 [==============================] - 3s 184us/sample - loss: 0.0515 - acc: 0.9842 - val_loss: 0.1608 - val_acc: 0.9538\n",
            "Epoch 7/10\n",
            "18000/18000 [==============================] - 3s 183us/sample - loss: 0.0407 - acc: 0.9868 - val_loss: 0.1478 - val_acc: 0.9597\n",
            "Epoch 8/10\n",
            "18000/18000 [==============================] - 3s 183us/sample - loss: 0.0273 - acc: 0.9921 - val_loss: 0.1502 - val_acc: 0.9609\n",
            "Epoch 9/10\n",
            "18000/18000 [==============================] - 3s 185us/sample - loss: 0.0229 - acc: 0.9933 - val_loss: 0.1677 - val_acc: 0.9588\n",
            "Epoch 10/10\n",
            "18000/18000 [==============================] - 3s 184us/sample - loss: 0.0154 - acc: 0.9958 - val_loss: 0.1665 - val_acc: 0.9610\n"
          ],
          "name": "stdout"
        }
      ]
    },
    {
      "cell_type": "code",
      "metadata": {
        "id": "0qi8X8HeLAkt",
        "colab_type": "code",
        "colab": {
          "base_uri": "https://localhost:8080/",
          "height": 289
        },
        "outputId": "d5c8ed02-fd7b-484e-c710-7df9416dad29"
      },
      "source": [
        "model.summary()"
      ],
      "execution_count": 246,
      "outputs": [
        {
          "output_type": "stream",
          "text": [
            "Model: \"sequential_11\"\n",
            "_________________________________________________________________\n",
            "Layer (type)                 Output Shape              Param #   \n",
            "=================================================================\n",
            "flatten_10 (Flatten)         (None, 784)               0         \n",
            "_________________________________________________________________\n",
            "dense_30 (Dense)             (None, 128)               100480    \n",
            "_________________________________________________________________\n",
            "dense_31 (Dense)             (None, 128)               16512     \n",
            "_________________________________________________________________\n",
            "dense_32 (Dense)             (None, 10)                1290      \n",
            "=================================================================\n",
            "Total params: 118,282\n",
            "Trainable params: 118,282\n",
            "Non-trainable params: 0\n",
            "_________________________________________________________________\n"
          ],
          "name": "stdout"
        }
      ]
    },
    {
      "cell_type": "code",
      "metadata": {
        "id": "JWC0LUhtLGSE",
        "colab_type": "code",
        "colab": {}
      },
      "source": [
        "#val_loss,val_acc=model.evaluate(x_test,y_test)"
      ],
      "execution_count": 0,
      "outputs": []
    },
    {
      "cell_type": "code",
      "metadata": {
        "id": "Un95jxb5XECK",
        "colab_type": "code",
        "colab": {}
      },
      "source": [
        "acc=np.array(history.history['acc'])\n",
        "val_acc=np.array(history.history['val_acc'])\n",
        "loss=np.array(history.history['loss'])\n",
        "val_los=np.array(history.history['val_loss'])\n",
        "epochs=np.array(range(len(acc)))"
      ],
      "execution_count": 0,
      "outputs": []
    },
    {
      "cell_type": "code",
      "metadata": {
        "id": "uGvn0AJOYYGM",
        "colab_type": "code",
        "colab": {
          "base_uri": "https://localhost:8080/",
          "height": 34
        },
        "outputId": "db05c4f0-9134-444c-9942-9645d6994f3f"
      },
      "source": [
        "print(acc.shape)"
      ],
      "execution_count": 249,
      "outputs": [
        {
          "output_type": "stream",
          "text": [
            "(10,)\n"
          ],
          "name": "stdout"
        }
      ]
    },
    {
      "cell_type": "code",
      "metadata": {
        "id": "yWNqKQtgYUFG",
        "colab_type": "code",
        "colab": {
          "base_uri": "https://localhost:8080/",
          "height": 34
        },
        "outputId": "dfe2c253-d311-4b3c-ba95-2678f3234650"
      },
      "source": [
        "print(epochs.shape)"
      ],
      "execution_count": 250,
      "outputs": [
        {
          "output_type": "stream",
          "text": [
            "(10,)\n"
          ],
          "name": "stdout"
        }
      ]
    },
    {
      "cell_type": "code",
      "metadata": {
        "id": "oA886wMGMIO1",
        "colab_type": "code",
        "colab": {
          "base_uri": "https://localhost:8080/",
          "height": 295
        },
        "outputId": "3e44c54c-f665-4911-9099-a2586d0ca1f0"
      },
      "source": [
        "#r is red\n",
        "plt.plot(epochs, acc,'r',label=\"Training acc\")\n",
        "#b is blue\n",
        "plt.plot(epochs,val_acc,'b',label=\"Validation acc\")\n",
        "\n",
        "plt.title(\"Training and Validation Acc\")\n",
        "plt.xlabel('Epochs')\n",
        "plt.ylabel('Acc')\n",
        "plt.show()"
      ],
      "execution_count": 251,
      "outputs": [
        {
          "output_type": "display_data",
          "data": {
            "image/png": "[encoded data removed]",
            "text/plain": [
              "<Figure size 432x288 with 1 Axes>"
            ]
          },
          "metadata": {
            "tags": []
          }
        }
      ]
    },
    {
      "cell_type": "code",
      "metadata": {
        "id": "QeA8G4UScqbu",
        "colab_type": "code",
        "colab": {}
      },
      "source": [
        "model.save('model01.model')"
      ],
      "execution_count": 0,
      "outputs": []
    },
    {
      "cell_type": "code",
      "metadata": {
        "id": "aNRAZF15eleC",
        "colab_type": "code",
        "colab": {}
      },
      "source": [
        "new_model=load_model('model01.model')"
      ],
      "execution_count": 0,
      "outputs": []
    },
    {
      "cell_type": "code",
      "metadata": {
        "id": "birthuXFdD7H",
        "colab_type": "code",
        "colab": {}
      },
      "source": [
        "prediction=new_model.predict([x_test])"
      ],
      "execution_count": 0,
      "outputs": []
    },
    {
      "cell_type": "code",
      "metadata": {
        "id": "lDjOuoZSdZLF",
        "colab_type": "code",
        "colab": {
          "base_uri": "https://localhost:8080/",
          "height": 51
        },
        "outputId": "02ebda93-8989-4d8d-da21-3fab8def0e62"
      },
      "source": [
        "print(prediction[0])"
      ],
      "execution_count": 255,
      "outputs": [
        {
          "output_type": "stream",
          "text": [
            "[6.8417934e-15 4.1617983e-11 5.0942645e-10 1.6816655e-08 9.2645379e-12\n",
            " 3.6737335e-15 3.9971514e-15 1.0000000e+00 1.0763698e-13 1.1616312e-09]\n"
          ],
          "name": "stdout"
        }
      ]
    },
    {
      "cell_type": "code",
      "metadata": {
        "id": "1TfXTOhHd_kc",
        "colab_type": "code",
        "colab": {
          "base_uri": "https://localhost:8080/",
          "height": 34
        },
        "outputId": "5ad68d0a-0e5d-424e-d8e5-4550e7884b7a"
      },
      "source": [
        "prediction[0].argmax()"
      ],
      "execution_count": 256,
      "outputs": [
        {
          "output_type": "execute_result",
          "data": {
            "text/plain": [
              "7"
            ]
          },
          "metadata": {
            "tags": []
          },
          "execution_count": 256
        }
      ]
    },
    {
      "cell_type": "code",
      "metadata": {
        "id": "-2L6r-oyeFQm",
        "colab_type": "code",
        "colab": {
          "base_uri": "https://localhost:8080/",
          "height": 265
        },
        "outputId": "74f740c8-b471-4ad2-ef45-1f2ce84c6539"
      },
      "source": [
        "plt.imshow(x_test[0],cmap=plt.cm.binary)\n",
        "plt.show()"
      ],
      "execution_count": 257,
      "outputs": [
        {
          "output_type": "display_data",
          "data": {
            "image/png": "[encoded data removed]",
            "text/plain": [
              "<Figure size 432x288 with 1 Axes>"
            ]
          },
          "metadata": {
            "tags": []
          }
        }
      ]
    },
    {
      "cell_type": "code",
      "metadata": {
        "id": "RuRH-pUtjznL",
        "colab_type": "code",
        "colab": {}
      },
      "source": [
        "pickle_out=open(\"x_test.pickle\",\"wb\")\n",
        "pickle.dump(x_test,pickle_out)\n",
        "pickle_out.close()\n",
        "\n",
        "pickle_in=open(\"x_test.pickle\",\"rb\")\n",
        "pickle.load(pickle_in)\n",
        "pickle_in.close()"
      ],
      "execution_count": 0,
      "outputs": []
    },
    {
      "cell_type": "code",
      "metadata": {
        "id": "kLEb8oHwj1jo",
        "colab_type": "code",
        "colab": {
          "base_uri": "https://localhost:8080/",
          "height": 34
        },
        "outputId": "dc561a0c-40b1-4832-db28-36d7de1cd7cf"
      },
      "source": [
        "!ls"
      ],
      "execution_count": 259,
      "outputs": [
        {
          "output_type": "stream",
          "text": [
            "model01.model  sample_data  x_test.pickle\n"
          ],
          "name": "stdout"
        }
      ]
    }
  ]
}